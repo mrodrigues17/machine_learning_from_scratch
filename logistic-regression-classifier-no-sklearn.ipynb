{
 "cells": [
  {
   "cell_type": "markdown",
   "metadata": {
    "papermill": {
     "duration": 0.017714,
     "end_time": "2020-10-03T07:34:27.920488",
     "exception": false,
     "start_time": "2020-10-03T07:34:27.902774",
     "status": "completed"
    },
    "tags": []
   },
   "source": [
    "# Logistic Regression: A Vectorized Approach Without Machine Learning Libraries\n",
    "\n",
    "## 1. Introduction\n",
    "\n",
    "## 2. Preprocessing\n",
    "\n",
    "## 3. Initialize Coefficients\n",
    "\n",
    "## 4. Log-Odds Function\n",
    "\n",
    "## 5. Sigmoid Function\n",
    "\n",
    "## 6. Log-Loss Function\n",
    "\n",
    "## 7. Gradient Descent\n",
    "\n",
    "## 8. Find Best Threshold\n",
    "\n",
    "## 9. Performance Metrics\n",
    "\n",
    "## 10. Submission\n",
    "\n",
    "\n",
    "\n"
   ]
  },
  {
   "cell_type": "markdown",
   "metadata": {
    "papermill": {
     "duration": 0.016017,
     "end_time": "2020-10-03T07:34:27.952895",
     "exception": false,
     "start_time": "2020-10-03T07:34:27.936878",
     "status": "completed"
    },
    "tags": []
   },
   "source": [
    "# 1.Introduction\n",
    "This notebook will be applying logistic regression on the Titanic dataset. I did not include data exploration visuals in this notebook but did some minor data cleaning prior to applying the models. As an overview of the algorithm, I initialized coefficients and an intercept to zero and used the log-odds function to find the logarithm of the odds then applied a sigmoid function to restrict the values from 0 to 1. I then used gradient descent to find the optimal coefficients and intercept. These coefficients and intercept are then put into the sigmoid function with these sigmoid values determining the best threshold for classification. I included accuracy, recall and precision functions. Submission results are also included"
   ]
  },
  {
   "cell_type": "markdown",
   "metadata": {
    "papermill": {
     "duration": 0.015955,
     "end_time": "2020-10-03T07:34:27.985355",
     "exception": false,
     "start_time": "2020-10-03T07:34:27.969400",
     "status": "completed"
    },
    "tags": []
   },
   "source": [
    "# 2.Preprocessing"
   ]
  },
  {
   "cell_type": "code",
   "execution_count": 1,
   "metadata": {
    "_cell_guid": "b1076dfc-b9ad-4769-8c92-a6c4dae69d19",
    "_uuid": "8f2839f25d086af736a60e9eeb907d3b93b6e0e5",
    "execution": {
     "iopub.execute_input": "2020-10-03T07:34:28.025737Z",
     "iopub.status.busy": "2020-10-03T07:34:28.025098Z",
     "iopub.status.idle": "2020-10-03T07:34:28.042752Z",
     "shell.execute_reply": "2020-10-03T07:34:28.042180Z"
    },
    "papermill": {
     "duration": 0.041205,
     "end_time": "2020-10-03T07:34:28.042868",
     "exception": false,
     "start_time": "2020-10-03T07:34:28.001663",
     "status": "completed"
    },
    "tags": []
   },
   "outputs": [
    {
     "name": "stdout",
     "output_type": "stream",
     "text": [
      "/kaggle/input/titanic/gender_submission.csv\n",
      "/kaggle/input/titanic/test.csv\n",
      "/kaggle/input/titanic/train.csv\n"
     ]
    }
   ],
   "source": [
    "import numpy as np # linear algebra\n",
    "import pandas as pd # data processing, CSV file I/O (e.g. pd.read_csv)\n",
    "\n",
    "# Input data files are available in the read-only \"../input/\" directory\n",
    "# For example, running this (by clicking run or pressing Shift+Enter) will list all files under the input directory\n",
    "\n",
    "import os\n",
    "for dirname, _, filenames in os.walk('/kaggle/input'):\n",
    "    for filename in filenames:\n",
    "        print(os.path.join(dirname, filename))\n",
    "\n",
    "train_data = pd.read_csv(\"/kaggle/input/titanic/train.csv\")\n",
    "#train_data.head(10)"
   ]
  },
  {
   "cell_type": "code",
   "execution_count": 2,
   "metadata": {
    "execution": {
     "iopub.execute_input": "2020-10-03T07:34:28.091035Z",
     "iopub.status.busy": "2020-10-03T07:34:28.090440Z",
     "iopub.status.idle": "2020-10-03T07:34:28.119258Z",
     "shell.execute_reply": "2020-10-03T07:34:28.118696Z"
    },
    "papermill": {
     "duration": 0.059342,
     "end_time": "2020-10-03T07:34:28.119370",
     "exception": false,
     "start_time": "2020-10-03T07:34:28.060028",
     "status": "completed"
    },
    "tags": []
   },
   "outputs": [
    {
     "data": {
      "text/html": [
       "<div>\n",
       "<style scoped>\n",
       "    .dataframe tbody tr th:only-of-type {\n",
       "        vertical-align: middle;\n",
       "    }\n",
       "\n",
       "    .dataframe tbody tr th {\n",
       "        vertical-align: top;\n",
       "    }\n",
       "\n",
       "    .dataframe thead th {\n",
       "        text-align: right;\n",
       "    }\n",
       "</style>\n",
       "<table border=\"1\" class=\"dataframe\">\n",
       "  <thead>\n",
       "    <tr style=\"text-align: right;\">\n",
       "      <th></th>\n",
       "      <th>PassengerId</th>\n",
       "      <th>Survived</th>\n",
       "      <th>Pclass</th>\n",
       "      <th>Age</th>\n",
       "      <th>SibSp</th>\n",
       "      <th>Parch</th>\n",
       "      <th>Fare</th>\n",
       "    </tr>\n",
       "  </thead>\n",
       "  <tbody>\n",
       "    <tr>\n",
       "      <th>count</th>\n",
       "      <td>891.000000</td>\n",
       "      <td>891.000000</td>\n",
       "      <td>891.000000</td>\n",
       "      <td>714.000000</td>\n",
       "      <td>891.000000</td>\n",
       "      <td>891.000000</td>\n",
       "      <td>891.000000</td>\n",
       "    </tr>\n",
       "    <tr>\n",
       "      <th>mean</th>\n",
       "      <td>446.000000</td>\n",
       "      <td>0.383838</td>\n",
       "      <td>2.308642</td>\n",
       "      <td>29.699118</td>\n",
       "      <td>0.523008</td>\n",
       "      <td>0.381594</td>\n",
       "      <td>32.204208</td>\n",
       "    </tr>\n",
       "    <tr>\n",
       "      <th>std</th>\n",
       "      <td>257.353842</td>\n",
       "      <td>0.486592</td>\n",
       "      <td>0.836071</td>\n",
       "      <td>14.526497</td>\n",
       "      <td>1.102743</td>\n",
       "      <td>0.806057</td>\n",
       "      <td>49.693429</td>\n",
       "    </tr>\n",
       "    <tr>\n",
       "      <th>min</th>\n",
       "      <td>1.000000</td>\n",
       "      <td>0.000000</td>\n",
       "      <td>1.000000</td>\n",
       "      <td>0.420000</td>\n",
       "      <td>0.000000</td>\n",
       "      <td>0.000000</td>\n",
       "      <td>0.000000</td>\n",
       "    </tr>\n",
       "    <tr>\n",
       "      <th>25%</th>\n",
       "      <td>223.500000</td>\n",
       "      <td>0.000000</td>\n",
       "      <td>2.000000</td>\n",
       "      <td>20.125000</td>\n",
       "      <td>0.000000</td>\n",
       "      <td>0.000000</td>\n",
       "      <td>7.910400</td>\n",
       "    </tr>\n",
       "    <tr>\n",
       "      <th>50%</th>\n",
       "      <td>446.000000</td>\n",
       "      <td>0.000000</td>\n",
       "      <td>3.000000</td>\n",
       "      <td>28.000000</td>\n",
       "      <td>0.000000</td>\n",
       "      <td>0.000000</td>\n",
       "      <td>14.454200</td>\n",
       "    </tr>\n",
       "    <tr>\n",
       "      <th>75%</th>\n",
       "      <td>668.500000</td>\n",
       "      <td>1.000000</td>\n",
       "      <td>3.000000</td>\n",
       "      <td>38.000000</td>\n",
       "      <td>1.000000</td>\n",
       "      <td>0.000000</td>\n",
       "      <td>31.000000</td>\n",
       "    </tr>\n",
       "    <tr>\n",
       "      <th>max</th>\n",
       "      <td>891.000000</td>\n",
       "      <td>1.000000</td>\n",
       "      <td>3.000000</td>\n",
       "      <td>80.000000</td>\n",
       "      <td>8.000000</td>\n",
       "      <td>6.000000</td>\n",
       "      <td>512.329200</td>\n",
       "    </tr>\n",
       "  </tbody>\n",
       "</table>\n",
       "</div>"
      ],
      "text/plain": [
       "       PassengerId    Survived      Pclass         Age       SibSp  \\\n",
       "count   891.000000  891.000000  891.000000  714.000000  891.000000   \n",
       "mean    446.000000    0.383838    2.308642   29.699118    0.523008   \n",
       "std     257.353842    0.486592    0.836071   14.526497    1.102743   \n",
       "min       1.000000    0.000000    1.000000    0.420000    0.000000   \n",
       "25%     223.500000    0.000000    2.000000   20.125000    0.000000   \n",
       "50%     446.000000    0.000000    3.000000   28.000000    0.000000   \n",
       "75%     668.500000    1.000000    3.000000   38.000000    1.000000   \n",
       "max     891.000000    1.000000    3.000000   80.000000    8.000000   \n",
       "\n",
       "            Parch        Fare  \n",
       "count  891.000000  891.000000  \n",
       "mean     0.381594   32.204208  \n",
       "std      0.806057   49.693429  \n",
       "min      0.000000    0.000000  \n",
       "25%      0.000000    7.910400  \n",
       "50%      0.000000   14.454200  \n",
       "75%      0.000000   31.000000  \n",
       "max      6.000000  512.329200  "
      ]
     },
     "execution_count": 2,
     "metadata": {},
     "output_type": "execute_result"
    }
   ],
   "source": [
    "#Looking at the numeric variables\n",
    "train_data.describe()"
   ]
  },
  {
   "cell_type": "markdown",
   "metadata": {
    "papermill": {
     "duration": 0.017247,
     "end_time": "2020-10-03T07:34:28.154068",
     "exception": false,
     "start_time": "2020-10-03T07:34:28.136821",
     "status": "completed"
    },
    "tags": []
   },
   "source": [
    "The age variable has missing data but all of the other numeric columns are fine. An approach is to group data by another variable and find the average age for each group and impute the average into the missing values. I will take group by the title of each person since people with similar title may have similar ages.\n"
   ]
  },
  {
   "cell_type": "code",
   "execution_count": 3,
   "metadata": {
    "execution": {
     "iopub.execute_input": "2020-10-03T07:34:28.202530Z",
     "iopub.status.busy": "2020-10-03T07:34:28.201881Z",
     "iopub.status.idle": "2020-10-03T07:34:28.204839Z",
     "shell.execute_reply": "2020-10-03T07:34:28.204360Z"
    },
    "papermill": {
     "duration": 0.033735,
     "end_time": "2020-10-03T07:34:28.204977",
     "exception": false,
     "start_time": "2020-10-03T07:34:28.171242",
     "status": "completed"
    },
    "tags": []
   },
   "outputs": [],
   "source": [
    "train_data[\"Name\"] = train_data[\"Name\"].str.split(',').str[1]\n",
    "train_data[\"Name\"] = train_data[\"Name\"].str.split('.').str[0]\n",
    "train_data[\"Name\"] = train_data[\"Name\"].str.strip()"
   ]
  },
  {
   "cell_type": "code",
   "execution_count": 4,
   "metadata": {
    "_cell_guid": "79c7e3d0-c299-4dcb-8224-4455121ee9b0",
    "_uuid": "d629ff2d2480ee46fbb7e2d37f6b5fab8052498a",
    "execution": {
     "iopub.execute_input": "2020-10-03T07:34:28.245601Z",
     "iopub.status.busy": "2020-10-03T07:34:28.244966Z",
     "iopub.status.idle": "2020-10-03T07:34:28.271118Z",
     "shell.execute_reply": "2020-10-03T07:34:28.270591Z"
    },
    "papermill": {
     "duration": 0.048797,
     "end_time": "2020-10-03T07:34:28.271229",
     "exception": false,
     "start_time": "2020-10-03T07:34:28.222432",
     "status": "completed"
    },
    "tags": []
   },
   "outputs": [
    {
     "data": {
      "text/plain": [
       "Index(['Capt', 'Col', 'Don', 'Dr', 'Jonkheer', 'Lady', 'Major', 'Master',\n",
       "       'Miss', 'Mlle', 'Mme', 'Mr', 'Mrs', 'Ms', 'Rev', 'Sir', 'the Countess'],\n",
       "      dtype='object', name='Name')"
      ]
     },
     "execution_count": 4,
     "metadata": {},
     "output_type": "execute_result"
    }
   ],
   "source": [
    "x = train_data.groupby('Name').agg(['count']).index.get_level_values('Name')\n",
    "x"
   ]
  },
  {
   "cell_type": "markdown",
   "metadata": {
    "papermill": {
     "duration": 0.017416,
     "end_time": "2020-10-03T07:34:28.306503",
     "exception": false,
     "start_time": "2020-10-03T07:34:28.289087",
     "status": "completed"
    },
    "tags": []
   },
   "source": [
    "The names are transformed into title. Taking the average age of each group to fill missing data."
   ]
  },
  {
   "cell_type": "code",
   "execution_count": 5,
   "metadata": {
    "execution": {
     "iopub.execute_input": "2020-10-03T07:34:28.351313Z",
     "iopub.status.busy": "2020-10-03T07:34:28.348993Z",
     "iopub.status.idle": "2020-10-03T07:34:28.417481Z",
     "shell.execute_reply": "2020-10-03T07:34:28.418136Z"
    },
    "papermill": {
     "duration": 0.094017,
     "end_time": "2020-10-03T07:34:28.418293",
     "exception": false,
     "start_time": "2020-10-03T07:34:28.324276",
     "status": "completed"
    },
    "tags": []
   },
   "outputs": [
    {
     "data": {
      "text/html": [
       "<div>\n",
       "<style scoped>\n",
       "    .dataframe tbody tr th:only-of-type {\n",
       "        vertical-align: middle;\n",
       "    }\n",
       "\n",
       "    .dataframe tbody tr th {\n",
       "        vertical-align: top;\n",
       "    }\n",
       "\n",
       "    .dataframe thead th {\n",
       "        text-align: right;\n",
       "    }\n",
       "</style>\n",
       "<table border=\"1\" class=\"dataframe\">\n",
       "  <thead>\n",
       "    <tr style=\"text-align: right;\">\n",
       "      <th></th>\n",
       "      <th>PassengerId</th>\n",
       "      <th>Survived</th>\n",
       "      <th>Pclass</th>\n",
       "      <th>Name</th>\n",
       "      <th>Sex</th>\n",
       "      <th>Age</th>\n",
       "      <th>SibSp</th>\n",
       "      <th>Parch</th>\n",
       "      <th>Ticket</th>\n",
       "      <th>Fare</th>\n",
       "      <th>Cabin</th>\n",
       "      <th>Embarked</th>\n",
       "    </tr>\n",
       "  </thead>\n",
       "  <tbody>\n",
       "    <tr>\n",
       "      <th>0</th>\n",
       "      <td>1</td>\n",
       "      <td>0</td>\n",
       "      <td>3</td>\n",
       "      <td>Mr</td>\n",
       "      <td>1</td>\n",
       "      <td>22.0</td>\n",
       "      <td>1</td>\n",
       "      <td>0</td>\n",
       "      <td>A/5 21171</td>\n",
       "      <td>7.2500</td>\n",
       "      <td>NaN</td>\n",
       "      <td>S</td>\n",
       "    </tr>\n",
       "    <tr>\n",
       "      <th>1</th>\n",
       "      <td>2</td>\n",
       "      <td>1</td>\n",
       "      <td>1</td>\n",
       "      <td>Mrs</td>\n",
       "      <td>0</td>\n",
       "      <td>38.0</td>\n",
       "      <td>1</td>\n",
       "      <td>0</td>\n",
       "      <td>PC 17599</td>\n",
       "      <td>71.2833</td>\n",
       "      <td>C85</td>\n",
       "      <td>C</td>\n",
       "    </tr>\n",
       "    <tr>\n",
       "      <th>2</th>\n",
       "      <td>3</td>\n",
       "      <td>1</td>\n",
       "      <td>3</td>\n",
       "      <td>Miss</td>\n",
       "      <td>0</td>\n",
       "      <td>26.0</td>\n",
       "      <td>0</td>\n",
       "      <td>0</td>\n",
       "      <td>STON/O2. 3101282</td>\n",
       "      <td>7.9250</td>\n",
       "      <td>NaN</td>\n",
       "      <td>S</td>\n",
       "    </tr>\n",
       "    <tr>\n",
       "      <th>3</th>\n",
       "      <td>4</td>\n",
       "      <td>1</td>\n",
       "      <td>1</td>\n",
       "      <td>Mrs</td>\n",
       "      <td>0</td>\n",
       "      <td>35.0</td>\n",
       "      <td>1</td>\n",
       "      <td>0</td>\n",
       "      <td>113803</td>\n",
       "      <td>53.1000</td>\n",
       "      <td>C123</td>\n",
       "      <td>S</td>\n",
       "    </tr>\n",
       "    <tr>\n",
       "      <th>4</th>\n",
       "      <td>5</td>\n",
       "      <td>0</td>\n",
       "      <td>3</td>\n",
       "      <td>Mr</td>\n",
       "      <td>1</td>\n",
       "      <td>35.0</td>\n",
       "      <td>0</td>\n",
       "      <td>0</td>\n",
       "      <td>373450</td>\n",
       "      <td>8.0500</td>\n",
       "      <td>NaN</td>\n",
       "      <td>S</td>\n",
       "    </tr>\n",
       "  </tbody>\n",
       "</table>\n",
       "</div>"
      ],
      "text/plain": [
       "   PassengerId  Survived  Pclass  Name  Sex   Age  SibSp  Parch  \\\n",
       "0            1         0       3    Mr    1  22.0      1      0   \n",
       "1            2         1       1   Mrs    0  38.0      1      0   \n",
       "2            3         1       3  Miss    0  26.0      0      0   \n",
       "3            4         1       1   Mrs    0  35.0      1      0   \n",
       "4            5         0       3    Mr    1  35.0      0      0   \n",
       "\n",
       "             Ticket     Fare Cabin Embarked  \n",
       "0         A/5 21171   7.2500   NaN        S  \n",
       "1          PC 17599  71.2833   C85        C  \n",
       "2  STON/O2. 3101282   7.9250   NaN        S  \n",
       "3            113803  53.1000  C123        S  \n",
       "4            373450   8.0500   NaN        S  "
      ]
     },
     "execution_count": 5,
     "metadata": {},
     "output_type": "execute_result"
    }
   ],
   "source": [
    "train_data[\"Age\"] = train_data.groupby(\"Name\").transform(lambda x: x.fillna(x.mean()))['Age']\n",
    "#changing sex to be 0 or 1 for female & male\n",
    "train_data['Sex'].replace({'female':0,'male':1},inplace=True)\n",
    "train_data.head()"
   ]
  },
  {
   "cell_type": "markdown",
   "metadata": {
    "papermill": {
     "duration": 0.017797,
     "end_time": "2020-10-03T07:34:28.454371",
     "exception": false,
     "start_time": "2020-10-03T07:34:28.436574",
     "status": "completed"
    },
    "tags": []
   },
   "source": [
    "For logistic regression, we don't need to standardize the data. The major focus of this notebook is on the algorithm, so I will be using what I think are the most potentially useful variables (6 of the features)"
   ]
  },
  {
   "cell_type": "code",
   "execution_count": 6,
   "metadata": {
    "execution": {
     "iopub.execute_input": "2020-10-03T07:34:28.499541Z",
     "iopub.status.busy": "2020-10-03T07:34:28.498642Z",
     "iopub.status.idle": "2020-10-03T07:34:28.531016Z",
     "shell.execute_reply": "2020-10-03T07:34:28.530451Z"
    },
    "papermill": {
     "duration": 0.058523,
     "end_time": "2020-10-03T07:34:28.531126",
     "exception": false,
     "start_time": "2020-10-03T07:34:28.472603",
     "status": "completed"
    },
    "tags": []
   },
   "outputs": [
    {
     "data": {
      "text/html": [
       "<div>\n",
       "<style scoped>\n",
       "    .dataframe tbody tr th:only-of-type {\n",
       "        vertical-align: middle;\n",
       "    }\n",
       "\n",
       "    .dataframe tbody tr th {\n",
       "        vertical-align: top;\n",
       "    }\n",
       "\n",
       "    .dataframe thead th {\n",
       "        text-align: right;\n",
       "    }\n",
       "</style>\n",
       "<table border=\"1\" class=\"dataframe\">\n",
       "  <thead>\n",
       "    <tr style=\"text-align: right;\">\n",
       "      <th></th>\n",
       "      <th>Pclass</th>\n",
       "      <th>Sex</th>\n",
       "      <th>Age</th>\n",
       "      <th>SibSp</th>\n",
       "      <th>Parch</th>\n",
       "      <th>Fare</th>\n",
       "    </tr>\n",
       "  </thead>\n",
       "  <tbody>\n",
       "    <tr>\n",
       "      <th>0</th>\n",
       "      <td>1.0</td>\n",
       "      <td>1.0</td>\n",
       "      <td>0.271174</td>\n",
       "      <td>0.125</td>\n",
       "      <td>0.0</td>\n",
       "      <td>0.014151</td>\n",
       "    </tr>\n",
       "    <tr>\n",
       "      <th>1</th>\n",
       "      <td>0.0</td>\n",
       "      <td>0.0</td>\n",
       "      <td>0.472229</td>\n",
       "      <td>0.125</td>\n",
       "      <td>0.0</td>\n",
       "      <td>0.139136</td>\n",
       "    </tr>\n",
       "    <tr>\n",
       "      <th>2</th>\n",
       "      <td>1.0</td>\n",
       "      <td>0.0</td>\n",
       "      <td>0.321438</td>\n",
       "      <td>0.000</td>\n",
       "      <td>0.0</td>\n",
       "      <td>0.015469</td>\n",
       "    </tr>\n",
       "    <tr>\n",
       "      <th>3</th>\n",
       "      <td>0.0</td>\n",
       "      <td>0.0</td>\n",
       "      <td>0.434531</td>\n",
       "      <td>0.125</td>\n",
       "      <td>0.0</td>\n",
       "      <td>0.103644</td>\n",
       "    </tr>\n",
       "    <tr>\n",
       "      <th>4</th>\n",
       "      <td>1.0</td>\n",
       "      <td>1.0</td>\n",
       "      <td>0.434531</td>\n",
       "      <td>0.000</td>\n",
       "      <td>0.0</td>\n",
       "      <td>0.015713</td>\n",
       "    </tr>\n",
       "  </tbody>\n",
       "</table>\n",
       "</div>"
      ],
      "text/plain": [
       "   Pclass  Sex       Age  SibSp  Parch      Fare\n",
       "0     1.0  1.0  0.271174  0.125    0.0  0.014151\n",
       "1     0.0  0.0  0.472229  0.125    0.0  0.139136\n",
       "2     1.0  0.0  0.321438  0.000    0.0  0.015469\n",
       "3     0.0  0.0  0.434531  0.125    0.0  0.103644\n",
       "4     1.0  1.0  0.434531  0.000    0.0  0.015713"
      ]
     },
     "execution_count": 6,
     "metadata": {},
     "output_type": "execute_result"
    }
   ],
   "source": [
    "train_data_log = train_data.iloc[:,[False,False,True, False,True,True,True,True,False,True,False,False]]\n",
    "normalized_data_train=(train_data_log-train_data_log.min())/(train_data_log.max()-train_data_log.min())\n",
    "train_labels_log = train_data.iloc[:,1]\n",
    "normalized_data_train.head()"
   ]
  },
  {
   "cell_type": "markdown",
   "metadata": {
    "papermill": {
     "duration": 0.018496,
     "end_time": "2020-10-03T07:34:28.568580",
     "exception": false,
     "start_time": "2020-10-03T07:34:28.550084",
     "status": "completed"
    },
    "tags": []
   },
   "source": [
    "# 3.Initializing"
   ]
  },
  {
   "cell_type": "code",
   "execution_count": 7,
   "metadata": {
    "execution": {
     "iopub.execute_input": "2020-10-03T07:34:28.613990Z",
     "iopub.status.busy": "2020-10-03T07:34:28.613099Z",
     "iopub.status.idle": "2020-10-03T07:34:28.616674Z",
     "shell.execute_reply": "2020-10-03T07:34:28.616209Z"
    },
    "papermill": {
     "duration": 0.029381,
     "end_time": "2020-10-03T07:34:28.616783",
     "exception": false,
     "start_time": "2020-10-03T07:34:28.587402",
     "status": "completed"
    },
    "tags": []
   },
   "outputs": [
    {
     "name": "stdout",
     "output_type": "stream",
     "text": [
      "[0, 0, 0, 0, 0, 0]\n",
      "0\n"
     ]
    }
   ],
   "source": [
    "def initial_coefs_intercept(data):\n",
    "    \"\"\"Function takes a pandas df as input and returns initialized coefficients and intercept\"\"\"\n",
    "    coefficients = []\n",
    "    intercept = 0\n",
    "    for i in range(len(data.columns)):\n",
    "        coefficients.append(0)\n",
    "    return [coefficients, intercept]\n",
    "\n",
    "initial_coefs = initial_coefs_intercept(normalized_data_train)[0]\n",
    "initial_intercept = initial_coefs_intercept(normalized_data_train)[1]\n",
    "print(initial_coefs)\n",
    "print(initial_intercept)"
   ]
  },
  {
   "cell_type": "markdown",
   "metadata": {
    "papermill": {
     "duration": 0.019051,
     "end_time": "2020-10-03T07:34:28.655219",
     "exception": false,
     "start_time": "2020-10-03T07:34:28.636168",
     "status": "completed"
    },
    "tags": []
   },
   "source": [
    "# 4.Log-Odds"
   ]
  },
  {
   "cell_type": "code",
   "execution_count": 8,
   "metadata": {
    "execution": {
     "iopub.execute_input": "2020-10-03T07:34:28.699731Z",
     "iopub.status.busy": "2020-10-03T07:34:28.699039Z",
     "iopub.status.idle": "2020-10-03T07:34:28.705897Z",
     "shell.execute_reply": "2020-10-03T07:34:28.705287Z"
    },
    "papermill": {
     "duration": 0.031524,
     "end_time": "2020-10-03T07:34:28.706032",
     "exception": false,
     "start_time": "2020-10-03T07:34:28.674508",
     "status": "completed"
    },
    "tags": []
   },
   "outputs": [],
   "source": [
    "#log_odds\n",
    "def log_odds(data,coefficients,intercept):\n",
    "    \"\"\"Takes pandas dataframe, list of coefficients and an intercept value and returns\n",
    "    an array of the log odds of each feature\"\"\"\n",
    "    return np.dot(data,coefficients) + intercept\n",
    "\n",
    "l_o= log_odds(normalized_data_train,initial_coefs, initial_intercept)\n"
   ]
  },
  {
   "cell_type": "markdown",
   "metadata": {
    "papermill": {
     "duration": 0.01985,
     "end_time": "2020-10-03T07:34:28.745873",
     "exception": false,
     "start_time": "2020-10-03T07:34:28.726023",
     "status": "completed"
    },
    "tags": []
   },
   "source": [
    "# 5.Sigmoid"
   ]
  },
  {
   "cell_type": "code",
   "execution_count": 9,
   "metadata": {
    "execution": {
     "iopub.execute_input": "2020-10-03T07:34:28.791961Z",
     "iopub.status.busy": "2020-10-03T07:34:28.791002Z",
     "iopub.status.idle": "2020-10-03T07:34:28.794014Z",
     "shell.execute_reply": "2020-10-03T07:34:28.793394Z"
    },
    "papermill": {
     "duration": 0.028142,
     "end_time": "2020-10-03T07:34:28.794123",
     "exception": false,
     "start_time": "2020-10-03T07:34:28.765981",
     "status": "completed"
    },
    "tags": []
   },
   "outputs": [],
   "source": [
    "def sigmoid(log_odds_vars):\n",
    "    \"\"\"Takes log odds calculated with the log odds functions and returns the sigmoid transformed values\n",
    "    restricting the values from 0 to 1\"\"\"\n",
    "    sigmoid_values = 1/(1+np.exp(-log_odds_vars))\n",
    "    \n",
    "    return sigmoid_values\n",
    "\n",
    "sigmoid_vals = sigmoid(l_o)\n"
   ]
  },
  {
   "cell_type": "markdown",
   "metadata": {
    "papermill": {
     "duration": 0.019793,
     "end_time": "2020-10-03T07:34:28.834206",
     "exception": false,
     "start_time": "2020-10-03T07:34:28.814413",
     "status": "completed"
    },
    "tags": []
   },
   "source": [
    "# 6.Log-Loss\n",
    "Log-Loss is the loss function. Gradient descent uses the derivative of the loss function for optimization"
   ]
  },
  {
   "cell_type": "code",
   "execution_count": 10,
   "metadata": {
    "execution": {
     "iopub.execute_input": "2020-10-03T07:34:28.881432Z",
     "iopub.status.busy": "2020-10-03T07:34:28.880482Z",
     "iopub.status.idle": "2020-10-03T07:34:28.883386Z",
     "shell.execute_reply": "2020-10-03T07:34:28.882751Z"
    },
    "papermill": {
     "duration": 0.029148,
     "end_time": "2020-10-03T07:34:28.883495",
     "exception": false,
     "start_time": "2020-10-03T07:34:28.854347",
     "status": "completed"
    },
    "tags": []
   },
   "outputs": [],
   "source": [
    "def log_loss(probabilities, labels):\n",
    "    \"\"\"Determines the log loss given a set of sigmoid values (probabilities) and a set of training data labels\"\"\"\n",
    "    #start_time = time.time()\n",
    "    data_length = len(labels)\n",
    "    labels = np.array(labels)\n",
    "    \n",
    "    left_half = np.dot(labels,np.log(probabilities+.0001)) #including small epsilon so no division by 0\n",
    "    right_half = np.dot(1-labels,np.log(1-probabilities+.0001))\n",
    "    loss = (-1/data_length) * (left_half + right_half)\n",
    "\n",
    "    #print(\"--- %s seconds ---\" % (time.time() - start_time)) \n",
    "    return loss\n",
    "    \n",
    "#print(log_loss(sigmoid_vals,train_labels_log))"
   ]
  },
  {
   "cell_type": "markdown",
   "metadata": {
    "papermill": {
     "duration": 0.019829,
     "end_time": "2020-10-03T07:34:28.923502",
     "exception": false,
     "start_time": "2020-10-03T07:34:28.903673",
     "status": "completed"
    },
    "tags": []
   },
   "source": [
    "# 7.Gradient_Descent\n",
    "> ### Using the functions created earlier and the gradients of the coefficients and the intercept I used a learning rate of .005 and number of iterations equal to 10,000. I tried several and this had best performance."
   ]
  },
  {
   "cell_type": "code",
   "execution_count": 11,
   "metadata": {
    "execution": {
     "iopub.execute_input": "2020-10-03T07:34:28.974066Z",
     "iopub.status.busy": "2020-10-03T07:34:28.973091Z",
     "iopub.status.idle": "2020-10-03T07:35:32.337272Z",
     "shell.execute_reply": "2020-10-03T07:35:32.337820Z"
    },
    "papermill": {
     "duration": 63.393865,
     "end_time": "2020-10-03T07:35:32.338013",
     "exception": false,
     "start_time": "2020-10-03T07:34:28.944148",
     "status": "completed"
    },
    "tags": []
   },
   "outputs": [
    {
     "name": "stdout",
     "output_type": "stream",
     "text": [
      "[-2.51954182 -2.7993534  -3.57881625 -2.86774287 -0.35887018  0.71276646] 4.140646511275284\n"
     ]
    }
   ],
   "source": [
    "def find_coefficients(data, coefficients, intercept,labels,learning_rate, iterations):\n",
    "    coefs = coefficients\n",
    "    for i in range(iterations):\n",
    "        l_odds = log_odds(data,coefs,intercept)\n",
    "        sig_vals = sigmoid(l_odds)\n",
    "        data_transpose = np.transpose(learning_rate * data)\n",
    "        coefs = np.dot(data_transpose,(labels-sig_vals) * sig_vals*(1-sig_vals)) + coefs\n",
    "        intercept = intercept + learning_rate * np.dot((labels-sig_vals), (sig_vals*(1-sig_vals)))\n",
    "    print(coefs, intercept)\n",
    "    return coefs, intercept\n",
    "best_coefs= find_coefficients(normalized_data_train,initial_coefs, initial_intercept,train_labels_log,.0005, 50000)"
   ]
  },
  {
   "cell_type": "markdown",
   "metadata": {
    "papermill": {
     "duration": 0.020041,
     "end_time": "2020-10-03T07:35:32.378762",
     "exception": false,
     "start_time": "2020-10-03T07:35:32.358721",
     "status": "completed"
    },
    "tags": []
   },
   "source": [
    "With the best coefficients and intercept, insert these into the sigmoid function to get the sigmoid values of the optimized coefficients."
   ]
  },
  {
   "cell_type": "code",
   "execution_count": 12,
   "metadata": {
    "execution": {
     "iopub.execute_input": "2020-10-03T07:35:32.424598Z",
     "iopub.status.busy": "2020-10-03T07:35:32.423947Z",
     "iopub.status.idle": "2020-10-03T07:35:32.427134Z",
     "shell.execute_reply": "2020-10-03T07:35:32.426513Z"
    },
    "papermill": {
     "duration": 0.028267,
     "end_time": "2020-10-03T07:35:32.427244",
     "exception": false,
     "start_time": "2020-10-03T07:35:32.398977",
     "status": "completed"
    },
    "tags": []
   },
   "outputs": [],
   "source": [
    "best_coef = best_coefs[0]\n",
    "best_int = best_coefs[1]\n",
    "\n",
    "v = sigmoid(log_odds(normalized_data_train,best_coef,best_int))\n",
    "\n",
    "#print(v)"
   ]
  },
  {
   "cell_type": "markdown",
   "metadata": {
    "papermill": {
     "duration": 0.019999,
     "end_time": "2020-10-03T07:35:32.467641",
     "exception": false,
     "start_time": "2020-10-03T07:35:32.447642",
     "status": "completed"
    },
    "tags": []
   },
   "source": [
    "# 8.Threshold"
   ]
  },
  {
   "cell_type": "code",
   "execution_count": 13,
   "metadata": {
    "execution": {
     "iopub.execute_input": "2020-10-03T07:35:32.531643Z",
     "iopub.status.busy": "2020-10-03T07:35:32.526474Z",
     "iopub.status.idle": "2020-10-03T07:35:36.659046Z",
     "shell.execute_reply": "2020-10-03T07:35:36.658337Z"
    },
    "papermill": {
     "duration": 4.171297,
     "end_time": "2020-10-03T07:35:36.659168",
     "exception": false,
     "start_time": "2020-10-03T07:35:32.487871",
     "status": "completed"
    },
    "tags": []
   },
   "outputs": [
    {
     "name": "stdout",
     "output_type": "stream",
     "text": [
      "Best accuracy on training set:\n",
      "0.8148148148148148\n",
      "0.556\n"
     ]
    }
   ],
   "source": [
    "def find_threshold(sigmoid_vals):\n",
    "    \"\"\"Takes sigmoid vals from best coefficients and best intercept and returns the best classifier threshold\"\"\"\n",
    "    predictions = []\n",
    "    vals = []\n",
    "    accuracies = []\n",
    "    \n",
    "    for num in range(1000):\n",
    "        vals.append(num/1000)\n",
    "        accuracy = 0\n",
    "        for i in v:\n",
    "            if i > num/1000:\n",
    "                predictions.append(1)\n",
    "            else:\n",
    "                predictions.append(0)\n",
    "        \n",
    "        for j in range(len(predictions)):\n",
    "            if predictions[j] == train_labels_log[j]:\n",
    "                accuracy += 1\n",
    "        accuracies.append(accuracy/len(predictions))\n",
    "        accuracy = 0\n",
    "        predictions = []\n",
    "    indx = accuracies.index(max(accuracies))\n",
    "    print(\"Best accuracy on training set:\")\n",
    "    print(max(accuracies))\n",
    "    best_threshold = vals[indx]\n",
    "    return best_threshold\n",
    "    \n",
    "best_thresh = find_threshold(v)\n",
    "print(best_thresh)"
   ]
  },
  {
   "cell_type": "markdown",
   "metadata": {
    "papermill": {
     "duration": 0.020377,
     "end_time": "2020-10-03T07:35:36.700422",
     "exception": false,
     "start_time": "2020-10-03T07:35:36.680045",
     "status": "completed"
    },
    "tags": []
   },
   "source": [
    "# 9.Performance"
   ]
  },
  {
   "cell_type": "code",
   "execution_count": 14,
   "metadata": {
    "execution": {
     "iopub.execute_input": "2020-10-03T07:35:36.761374Z",
     "iopub.status.busy": "2020-10-03T07:35:36.760616Z",
     "iopub.status.idle": "2020-10-03T07:35:36.764192Z",
     "shell.execute_reply": "2020-10-03T07:35:36.763675Z"
    },
    "papermill": {
     "duration": 0.043171,
     "end_time": "2020-10-03T07:35:36.764316",
     "exception": false,
     "start_time": "2020-10-03T07:35:36.721145",
     "status": "completed"
    },
    "tags": []
   },
   "outputs": [
    {
     "name": "stdout",
     "output_type": "stream",
     "text": [
      "Precision:\n",
      "0.8241758241758241\n"
     ]
    }
   ],
   "source": [
    "def calculate_precision(sigmoid_vals, threshold, labels):\n",
    "    \"Precision is  True Positives / (True Positives + False Positives)\"\n",
    "    predictions = []\n",
    "    true_positives = 0\n",
    "    false_positives = 0\n",
    "    for i in sigmoid_vals:\n",
    "        if i > threshold:\n",
    "            predictions.append(1)\n",
    "        else:\n",
    "            predictions.append(0)\n",
    "    \n",
    "    \n",
    "    for i in range(len(labels)):\n",
    "        if labels[i] == 1 and labels[i] == predictions[i]:\n",
    "            true_positives += 1\n",
    "        elif labels[i] == 0 and labels[i] != predictions[i]:\n",
    "            false_positives += 1\n",
    "    \n",
    "    return true_positives/(true_positives + false_positives)\n",
    "    \n",
    "print(\"Precision:\")\n",
    "print(calculate_precision(v, best_thresh, train_labels_log))\n",
    "\n",
    "    "
   ]
  },
  {
   "cell_type": "code",
   "execution_count": 15,
   "metadata": {
    "execution": {
     "iopub.execute_input": "2020-10-03T07:35:36.823778Z",
     "iopub.status.busy": "2020-10-03T07:35:36.823179Z",
     "iopub.status.idle": "2020-10-03T07:35:36.826413Z",
     "shell.execute_reply": "2020-10-03T07:35:36.827110Z"
    },
    "papermill": {
     "duration": 0.041921,
     "end_time": "2020-10-03T07:35:36.827281",
     "exception": false,
     "start_time": "2020-10-03T07:35:36.785360",
     "status": "completed"
    },
    "tags": []
   },
   "outputs": [
    {
     "name": "stdout",
     "output_type": "stream",
     "text": [
      "Recall\n",
      "0.6578947368421053\n"
     ]
    }
   ],
   "source": [
    "def calculate_recall(sigmoid_vals, threshold, labels):\n",
    "    \"Precision is  True Positives / (True Positives + False Negatives)\"\n",
    "    predictions = []\n",
    "    true_positives = 0\n",
    "    false_negatives = 0\n",
    "    for i in sigmoid_vals:\n",
    "        if i > threshold:\n",
    "            predictions.append(1)\n",
    "        else:\n",
    "            predictions.append(0)\n",
    "    \n",
    "    \n",
    "    for i in range(len(labels)):\n",
    "        if labels[i] == 1 and labels[i] == predictions[i]:\n",
    "            true_positives += 1\n",
    "        elif labels[i] == 1 and labels[i] != predictions[i]:\n",
    "            false_negatives += 1\n",
    "    \n",
    "    return true_positives/(true_positives + false_negatives)\n",
    "    \n",
    "    \n",
    "    \n",
    "print(\"Recall\")          \n",
    "print(calculate_recall(v, best_thresh, train_labels_log))\n",
    "    "
   ]
  },
  {
   "cell_type": "markdown",
   "metadata": {
    "papermill": {
     "duration": 0.021493,
     "end_time": "2020-10-03T07:35:36.871121",
     "exception": false,
     "start_time": "2020-10-03T07:35:36.849628",
     "status": "completed"
    },
    "tags": []
   },
   "source": [
    "# 10.Submission"
   ]
  },
  {
   "cell_type": "code",
   "execution_count": 16,
   "metadata": {
    "execution": {
     "iopub.execute_input": "2020-10-03T07:35:36.924991Z",
     "iopub.status.busy": "2020-10-03T07:35:36.922348Z",
     "iopub.status.idle": "2020-10-03T07:35:36.993139Z",
     "shell.execute_reply": "2020-10-03T07:35:36.992555Z"
    },
    "papermill": {
     "duration": 0.100561,
     "end_time": "2020-10-03T07:35:36.993265",
     "exception": false,
     "start_time": "2020-10-03T07:35:36.892704",
     "status": "completed"
    },
    "tags": []
   },
   "outputs": [],
   "source": [
    "test_data = pd.read_csv(\"/kaggle/input/titanic/test.csv\")\n",
    "\n",
    "\n",
    "test_data[\"Name\"] = test_data[\"Name\"].str.split(',').str[1]\n",
    "test_data[\"Name\"] = test_data[\"Name\"].str.split('.').str[0]\n",
    "test_data[\"Name\"] = test_data[\"Name\"].str.strip()\n",
    "test_data['Sex'].replace({'female':0,'male':1},inplace=True)\n",
    "\n",
    "\n",
    "x = test_data.groupby('Name').agg(['count']).index.get_level_values('Name')\n",
    "test_data[\"Age\"] = test_data.groupby(\"Name\").transform(lambda x: x.fillna(x.mean()))['Age']\n",
    "\n",
    "\n",
    "test_data_log = test_data.iloc[:,[False,True,False,True,True,True,True,False,True,False,False]]\n",
    "normalized_data_test=(test_data_log-test_data_log.min())/(test_data_log.max()-test_data_log.min())\n"
   ]
  },
  {
   "cell_type": "code",
   "execution_count": 17,
   "metadata": {
    "execution": {
     "iopub.execute_input": "2020-10-03T07:35:37.043082Z",
     "iopub.status.busy": "2020-10-03T07:35:37.042450Z",
     "iopub.status.idle": "2020-10-03T07:35:37.045413Z",
     "shell.execute_reply": "2020-10-03T07:35:37.044816Z"
    },
    "papermill": {
     "duration": 0.029812,
     "end_time": "2020-10-03T07:35:37.045516",
     "exception": false,
     "start_time": "2020-10-03T07:35:37.015704",
     "status": "completed"
    },
    "tags": []
   },
   "outputs": [],
   "source": [
    "pred_test = sigmoid(log_odds(normalized_data_test,best_coef,best_int))"
   ]
  },
  {
   "cell_type": "code",
   "execution_count": 18,
   "metadata": {
    "execution": {
     "iopub.execute_input": "2020-10-03T07:35:37.095251Z",
     "iopub.status.busy": "2020-10-03T07:35:37.094575Z",
     "iopub.status.idle": "2020-10-03T07:35:37.097755Z",
     "shell.execute_reply": "2020-10-03T07:35:37.097186Z"
    },
    "papermill": {
     "duration": 0.030406,
     "end_time": "2020-10-03T07:35:37.097869",
     "exception": false,
     "start_time": "2020-10-03T07:35:37.067463",
     "status": "completed"
    },
    "tags": []
   },
   "outputs": [],
   "source": [
    "#looping through sigmoid values and comparing to threshold value. If greater than threshold, predict class 1.\n",
    "#otherwise predict class 0\n",
    "classifier = []\n",
    "for i in range(len(pred_test)):\n",
    "    if pred_test[i] > best_thresh:\n",
    "        classifier.append(1)\n",
    "    else:\n",
    "        classifier.append(0)"
   ]
  },
  {
   "cell_type": "code",
   "execution_count": 19,
   "metadata": {
    "execution": {
     "iopub.execute_input": "2020-10-03T07:35:37.148518Z",
     "iopub.status.busy": "2020-10-03T07:35:37.147867Z",
     "iopub.status.idle": "2020-10-03T07:35:37.459833Z",
     "shell.execute_reply": "2020-10-03T07:35:37.459298Z"
    },
    "papermill": {
     "duration": 0.339861,
     "end_time": "2020-10-03T07:35:37.460007",
     "exception": false,
     "start_time": "2020-10-03T07:35:37.120146",
     "status": "completed"
    },
    "tags": []
   },
   "outputs": [],
   "source": [
    "data = {'PassengerId': test_data[\"PassengerId\"].values, 'Survived':classifier} \n",
    "df_submission = pd.DataFrame(data)\n",
    "\n",
    "df_submission.to_csv(\"submission_log_regression2.csv\",index=False)\n",
    "\n",
    "#Accuracy was 0.758 on testing set"
   ]
  },
  {
   "cell_type": "markdown",
   "metadata": {
    "papermill": {
     "duration": 0.021979,
     "end_time": "2020-10-03T07:35:37.505736",
     "exception": false,
     "start_time": "2020-10-03T07:35:37.483757",
     "status": "completed"
    },
    "tags": []
   },
   "source": [
    "Accuracy on the testing set was .758. This could probably be improved by trying different learning rates and number of epochs."
   ]
  }
 ],
 "metadata": {
  "kernelspec": {
   "display_name": "Python 3",
   "language": "python",
   "name": "python3"
  },
  "language_info": {
   "codemirror_mode": {
    "name": "ipython",
    "version": 3
   },
   "file_extension": ".py",
   "mimetype": "text/x-python",
   "name": "python",
   "nbconvert_exporter": "python",
   "pygments_lexer": "ipython3",
   "version": "3.7.6"
  },
  "papermill": {
   "duration": 73.628495,
   "end_time": "2020-10-03T07:35:37.635039",
   "environment_variables": {},
   "exception": null,
   "input_path": "__notebook__.ipynb",
   "output_path": "__notebook__.ipynb",
   "parameters": {},
   "start_time": "2020-10-03T07:34:24.006544",
   "version": "2.1.0"
  }
 },
 "nbformat": 4,
 "nbformat_minor": 4
}
